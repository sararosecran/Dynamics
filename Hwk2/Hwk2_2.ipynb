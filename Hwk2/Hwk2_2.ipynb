{
 "cells": [
  {
   "cell_type": "code",
   "execution_count": null,
   "metadata": {
    "collapsed": false
   },
   "outputs": [],
   "source": [
    "%matplotlib inline  \n",
    "import numpy as np\n",
    "import matplotlib.pyplot as plt\n",
    "from math import cos, sin, pi, sqrt\n",
    "from scipy.integrate import odeint\n",
    "import matplotlib.patches as patches"
   ]
  },
  {
   "cell_type": "markdown",
   "metadata": {},
   "source": [
    "# 2"
   ]
  },
  {
   "cell_type": "code",
   "execution_count": null,
   "metadata": {
    "collapsed": true
   },
   "outputs": [],
   "source": [
    "import time\n",
    "from matplotlib.patches import Ellipse\n",
    "from matplotlib.patches import Circle"
   ]
  },
  {
   "cell_type": "code",
   "execution_count": null,
   "metadata": {
    "collapsed": false
   },
   "outputs": [],
   "source": [
    "M_space = np.linspace(0, 2*pi, 100)\n",
    "a = 0.5\n",
    "e = 0.2\n",
    "a2 = 1.0\n",
    "e2 =0.1\n",
    "b = a * ((1 - (e**2))**(0.5))\n",
    "b2 = a2 * ((1 - (e**2))**(0.5))\n",
    "\n",
    "#x_prime = -a*e*cos(M_space)\n",
    "#y_prime = 2*a*e*sin(M_space)"
   ]
  },
  {
   "cell_type": "code",
   "execution_count": null,
   "metadata": {
    "collapsed": false
   },
   "outputs": [],
   "source": [
    "%matplotlib notebook\n",
    "fig,ax = plt.subplots(1,1, figsize= (10,10))\n",
    "ax.set_xlabel('x')\n",
    "ax.set_ylabel('y')\n",
    "ax.set_xlim(-2,2)\n",
    "ax.set_ylim(-2,2)\n",
    "ax.set_aspect('equal')\n",
    "plt.plot([0],[0],'ko')\n",
    "plt.show()\n",
    "first = True\n",
    "for M_frame in M_space:\n",
    "    f_frame = 2*e2*sin(M_frame) + M_frame\n",
    "    r_frame = (a2*(1+e2**2))/(1+e2*cos(f_frame))\n",
    "    if first:\n",
    "#        x = np.cos(M_frame) - a*e*np.cos(M_frame)\n",
    "#        y = np.sin(M_frame) + 2*a*e*np.sin(M_frame)\n",
    "#        ell = Ellipse(xy = (x, y), width = a, height = b )\n",
    "        ax.plot(np.cos(M_frame), np.sin(M_frame), 'ko') #guiding center dot\n",
    "        ax.plot(np.cos(M_space), np.sin(M_space), 'k--') #guiding circle\n",
    "        ax.plot(np.cos(M_frame) -a*e*np.cos(M_frame), np.sin(M_frame) + 2*a*e*np.sin(M_frame), 'ro') # Planet\n",
    "        ax.plot(np.cos(M_frame) -a*e*np.cos(M_space), np.sin(M_frame) + 2*a*e*np.sin(M_space) , 'r--') #red ellipse circle\n",
    "#        ax.plot(-a*e*np.cos(M_space), 2*a*e*np.sin(M_space), 'bo')\n",
    "#        ax.plot()\n",
    "#        ell.set_facecolor('none')\n",
    "#        ell.set_edgecolor('red')\n",
    "#        ax.add_artist(ell)\n",
    "#        c = Circle(xy = (0,0), radius = 1.0)\n",
    "#        c.set_facecolor('none')\n",
    "#        c.set_edgecolor('black')\n",
    "#        ax.add_artist(c) #circular orbit\n",
    "        ell2 = Ellipse(xy = (0-a*e*np.cos(M_frame),0), width= (2.0*a2), height = (2.0*b2))\n",
    "        ell2.set_facecolor('none')\n",
    "        ell2.set_edgecolor('blue')\n",
    "        ax.add_artist(ell2) #circular orbit\n",
    "        first = False\n",
    "    else:\n",
    "#        x = np.cos(M_frame) - a*e*np.cos(M_frame)\n",
    "#        y = np.sin(M_frame) + 2*a*e*np.sin(M_frame)\n",
    "#        ell = Ellipse(xy = (x, y), width = a, height = b )\n",
    "        ax.lines[1].set_xdata(np.cos(M_frame)) #guiding circle\n",
    "        ax.lines[1].set_ydata(np.sin(M_frame))\n",
    "        ax.lines[3].set_xdata(r_frame*np.cos(f_frame))\n",
    "        ax.lines[3].set_ydata(r_frame*np.sin(f_frame))\n",
    "        ax.lines[4].set_xdata(-a*e*np.cos(M_space)*np.cos(M_frame) - 2*a*e*np.sin(M_space)*np.sin(M_frame) + np.cos(M_frame))\n",
    "        ax.lines[4].set_ydata(-a*e*np.cos(M_space)*np.sin(M_frame) + 2*a*e*np.sin(M_space)*np.cos(M_frame) + np.sin(M_frame))\n",
    "\n",
    "        #        ax.lines[3].set_xdata(np.linspace(0,M_frame,10))\n",
    "#        ax.lines[3].set_ydata(np.linspace(0,3,10))\n",
    "        ax.plot(np.cos(M_space), np.sin(M_space), 'k--') #guiding circle\n",
    "\n",
    "    fig.canvas.draw()\n",
    "    time.sleep(0.1)\n"
   ]
  },
  {
   "cell_type": "code",
   "execution_count": null,
   "metadata": {
    "collapsed": true
   },
   "outputs": [],
   "source": []
  }
 ],
 "metadata": {
  "anaconda-cloud": {},
  "kernelspec": {
   "display_name": "Python [default]",
   "language": "python",
   "name": "python2"
  },
  "language_info": {
   "codemirror_mode": {
    "name": "ipython",
    "version": 2
   },
   "file_extension": ".py",
   "mimetype": "text/x-python",
   "name": "python",
   "nbconvert_exporter": "python",
   "pygments_lexer": "ipython2",
   "version": "2.7.12"
  }
 },
 "nbformat": 4,
 "nbformat_minor": 1
}
